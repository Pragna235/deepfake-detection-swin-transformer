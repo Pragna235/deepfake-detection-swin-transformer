{
  "cells": [
    {
      "cell_type": "code",
      "execution_count": 54,
      "metadata": {
        "colab": {
          "base_uri": "https://localhost:8080/"
        },
        "id": "UPmDFhFcQe16",
        "outputId": "3b357365-6afb-4cda-87aa-a61c371041df"
      },
      "outputs": [
        {
          "output_type": "stream",
          "name": "stdout",
          "text": [
            "Drive already mounted at /content/drive; to attempt to forcibly remount, call drive.mount(\"/content/drive\", force_remount=True).\n"
          ]
        }
      ],
      "source": [
        "from google.colab import drive\n",
        "drive.mount('/content/drive')"
      ]
    },
    {
      "cell_type": "code",
      "execution_count": 55,
      "metadata": {
        "colab": {
          "base_uri": "https://localhost:8080/"
        },
        "id": "s9rV1pQ1QxaC",
        "outputId": "8ca48de9-4182-477f-be9b-35e4f013d4e0"
      },
      "outputs": [
        {
          "output_type": "stream",
          "name": "stdout",
          "text": [
            "Archive:  /content/drive/MyDrive/real-vs-fake.zip\n",
            "replace real-vs-fake/test/fake/001DDU0NI4.jpg? [y]es, [n]o, [A]ll, [N]one, [r]ename: "
          ]
        }
      ],
      "source": [
        "! unzip '/content/drive/MyDrive/real-vs-fake.zip'"
      ]
    },
    {
      "cell_type": "code",
      "execution_count": null,
      "metadata": {
        "colab": {
          "base_uri": "https://localhost:8080/"
        },
        "id": "I0HxAsFhSQ6b",
        "outputId": "c3019579-e49c-4661-9e76-b9faae7685bd"
      },
      "outputs": [
        {
          "name": "stdout",
          "output_type": "stream",
          "text": [
            "Looking in indexes: https://pypi.org/simple, https://us-python.pkg.dev/colab-wheels/public/simple/\n",
            "Requirement already satisfied: tensorflow-addons in /usr/local/lib/python3.7/dist-packages (0.17.1)\n",
            "Requirement already satisfied: packaging in /usr/local/lib/python3.7/dist-packages (from tensorflow-addons) (21.3)\n",
            "Requirement already satisfied: typeguard>=2.7 in /usr/local/lib/python3.7/dist-packages (from tensorflow-addons) (2.7.1)\n",
            "Requirement already satisfied: pyparsing!=3.0.5,>=2.0.2 in /usr/local/lib/python3.7/dist-packages (from packaging->tensorflow-addons) (3.0.9)\n"
          ]
        }
      ],
      "source": [
        "!pip install -U tensorflow-addons"
      ]
    },
    {
      "cell_type": "code",
      "execution_count": null,
      "metadata": {
        "id": "pDe0bpsoSbEq"
      },
      "outputs": [],
      "source": [
        "#!pip install pytorch-ignite"
      ]
    },
    {
      "cell_type": "code",
      "execution_count": null,
      "metadata": {
        "id": "qkJe_K0gSUiS"
      },
      "outputs": [],
      "source": [
        "import numpy as np\n",
        "from collections import defaultdict\n",
        "import matplotlib.pyplot as plt\n",
        "\n",
        "import torch\n",
        "import torch.nn as nn\n",
        "import torch.optim as optim\n",
        "import torch.nn.functional as F\n",
        "from torchvision import datasets, transforms\n",
        "\n",
        "#from ignite.engine import Events, create_supervised_trainer, create_supervised_evaluator\n",
        "#import ignite.metrics\n",
        "#import ignite.contrib.handlers\n",
        "#from ignite.handlers import Checkpoint, global_step_from_engine"
      ]
    },
    {
      "cell_type": "code",
      "execution_count": null,
      "metadata": {
        "id": "8l5g47i9SgZr"
      },
      "outputs": [],
      "source": [
        "DATA_DIR='/content/real-vs-fake/'\n",
        "\n",
        "IMAGE_SIZE = 128\n",
        "\n",
        "NUM_CLASSES = 2\n",
        "NUM_WORKERS = 4\n",
        "BATCH_SIZE = 32\n",
        "EPOCHS = 200\n",
        "\n",
        "LEARNING_RATE = 1e-3\n",
        "WEIGHT_DECAY = 1e-1"
      ]
    },
    {
      "cell_type": "code",
      "execution_count": null,
      "metadata": {
        "colab": {
          "base_uri": "https://localhost:8080/"
        },
        "id": "-5SHKyBCSrZM",
        "outputId": "d1d58bd5-a1fc-456f-d9f5-9d2d9a6abfa4"
      },
      "outputs": [
        {
          "name": "stdout",
          "output_type": "stream",
          "text": [
            "device: cuda\n"
          ]
        }
      ],
      "source": [
        "DEVICE = torch.device(\"cuda\") if torch.cuda.is_available() else torch.device(\"cpu\")\n",
        "print(\"device:\", DEVICE)"
      ]
    },
    {
      "cell_type": "code",
      "execution_count": null,
      "metadata": {
        "id": "1mRo7yVDfFV6"
      },
      "outputs": [],
      "source": [
        "import os\n",
        "root_dir = \"/content/real-vs-fake\"\n",
        "data_transforms = {\n",
        "    'train':transforms.Compose([\n",
        "        transforms.Resize(128),\n",
        "        transforms.CenterCrop(128),\n",
        "        transforms.RandomHorizontalFlip(),\n",
        "        transforms.ToTensor()\n",
        "    ]),\n",
        "    'test':transforms.Compose([\n",
        "        transforms.Resize(128),\n",
        "        transforms.CenterCrop(128),\n",
        "        transforms.ToTensor()\n",
        "      \n",
        "    ])\n",
        "}\n",
        "\n",
        "image_datasets = {}\n",
        "image_datasets['train'] = datasets.ImageFolder(os.path.join(root_dir, 'train'), data_transforms['train'])\n",
        "image_datasets['test'] = datasets.ImageFolder(os.path.join(root_dir, 'test'), data_transforms['test'])\n",
        "image_datasets['val'] = datasets.ImageFolder(os.path.join(root_dir, 'valid'), data_transforms['test'])\n"
      ]
    },
    {
      "cell_type": "code",
      "execution_count": null,
      "metadata": {
        "colab": {
          "base_uri": "https://localhost:8080/"
        },
        "id": "8G74ucyHgQvT",
        "outputId": "74793a78-3777-43c3-e166-3b457b3b3f09"
      },
      "outputs": [
        {
          "name": "stdout",
          "output_type": "stream",
          "text": [
            "{'train': 25000, 'val': 5000, 'test': 5000}\n"
          ]
        }
      ],
      "source": [
        "batch_size = BATCH_SIZE\n",
        "data_loader = {x:torch.utils.data.DataLoader(image_datasets[x], batch_size=batch_size, shuffle=True, num_workers=NUM_WORKERS, pin_memory=True) for x in ['train','val','test']}\n",
        "dataset_sizes = {x:len(image_datasets[x]) for x in ['train','val','test']}\n",
        "print(dataset_sizes)"
      ]
    },
    {
      "cell_type": "code",
      "execution_count": null,
      "metadata": {
        "colab": {
          "base_uri": "https://localhost:8080/"
        },
        "id": "-I3z274IgbKa",
        "outputId": "405db5d8-8f47-4cf6-92c3-c697b1529c0f"
      },
      "outputs": [
        {
          "name": "stdout",
          "output_type": "stream",
          "text": [
            "['fake', 'real']\n",
            "{0: 'fake', 1: 'real'}\n",
            "torch.Size([32, 3, 128, 128])\n"
          ]
        }
      ],
      "source": [
        "class_names = image_datasets['test'].classes\n",
        "print(class_names)\n",
        "_ = image_datasets['test'].class_to_idx\n",
        "cat_to_name = {_[i]:i for i in list(_.keys())}\n",
        "print(cat_to_name)\n",
        "\n",
        "images, labels = next(iter(data_loader['train']))\n",
        "print(images.size())"
      ]
    },
    {
      "cell_type": "code",
      "execution_count": null,
      "metadata": {
        "colab": {
          "base_uri": "https://localhost:8080/",
          "height": 266
        },
        "id": "HAd96CVKgg5R",
        "outputId": "c0959e68-b4c7-4acc-a2d4-add6e1c1e72f"
      },
      "outputs": [
        {
          "data": {
            "image/png": "[encoded data removed]",
            "text/plain": [
              "<Figure size 576x288 with 8 Axes>"
            ]
          },
          "metadata": {},
          "output_type": "display_data"
        }
      ],
      "source": [
        "def showimage(data_loader, number_images, cat_to_name):\n",
        "    dataiter = iter(data_loader)\n",
        "    images, labels = dataiter.next()\n",
        "    images = images.numpy() # convert images to numpy for display\n",
        "    # plot the images in the batch, along with the corresponding labels\n",
        "    fig = plt.figure(figsize=(number_images, 4))\n",
        "    for idx in np.arange(number_images):\n",
        "        ax = fig.add_subplot(2, number_images//2, idx+1, xticks=[], yticks=[])\n",
        "        img = np.transpose(images[idx])\n",
        "        plt.imshow(img)\n",
        "        ax.set_title(cat_to_name[labels.tolist()[idx]])\n",
        "        \n",
        "#### to show some  images\n",
        "showimage(data_loader['test'], 8, cat_to_name)"
      ]
    },
    {
      "cell_type": "code",
      "execution_count": null,
      "metadata": {
        "id": "V066OK-tSuFq"
      },
      "outputs": [],
      "source": [
        "\"\"\"\n",
        "train_transform = transforms.Compose([\n",
        "    transforms.Resize(256), \n",
        "    transforms.CenterCrop(224),  \n",
        "    transforms.RandomHorizontalFlip(),\n",
        "    transforms.ToTensor()\n",
        "])\n",
        "\"\"\"\n"
      ]
    },
    {
      "cell_type": "code",
      "execution_count": null,
      "metadata": {
        "id": "_GjE6dOdcYJL"
      },
      "outputs": [],
      "source": [
        "\"\"\"\n",
        "test_transform = transforms.Compose([ \n",
        "    transforms.Resize(256), \n",
        "    transforms.CenterCrop(224),                                                             \n",
        "    transforms.ToTensor()\n",
        "])\n",
        "\"\"\""
      ]
    },
    {
      "cell_type": "code",
      "execution_count": null,
      "metadata": {
        "colab": {
          "base_uri": "https://localhost:8080/",
          "height": 72
        },
        "id": "wVZ9HfxzSx9y",
        "outputId": "a4203638-5a6f-4018-c12e-5800ae8afa5d"
      },
      "outputs": [
        {
          "data": {
            "application/vnd.google.colaboratory.intrinsic+json": {
              "type": "string"
            },
            "text/plain": [
              "\"\\nimport torchvision\\n#train_dset = datasets.CIFAR10(root=DATA_DIR, train=True, download=True, transform=train_transform)\\n#test_dset = datasets.CIFAR10(root=DATA_DIR, train=False, download=True, transform=transforms.ToTensor())\\ntrain_dset = torchvision.datasets.ImageFolder('/content/real-vs-fake/train/', transform=train_transform)\\ntest_dset = torchvision.datasets.ImageFolder('/content/real-vs-fake/test/',  transform=test_transform)\\n\""
            ]
          },
          "execution_count": 164,
          "metadata": {},
          "output_type": "execute_result"
        }
      ],
      "source": [
        "\"\"\"\n",
        "import torchvision\n",
        "#train_dset = datasets.CIFAR10(root=DATA_DIR, train=True, download=True, transform=train_transform)\n",
        "#test_dset = datasets.CIFAR10(root=DATA_DIR, train=False, download=True, transform=transforms.ToTensor())\n",
        "train_dset = torchvision.datasets.ImageFolder('/content/real-vs-fake/train/', transform=train_transform)\n",
        "test_dset = torchvision.datasets.ImageFolder('/content/real-vs-fake/test/',  transform=test_transform)\n",
        "\"\"\""
      ]
    },
    {
      "cell_type": "code",
      "execution_count": null,
      "metadata": {
        "id": "M7Lwghnxsa2U"
      },
      "outputs": [],
      "source": [
        "#print(test_dset[0][0].shape)"
      ]
    },
    {
      "cell_type": "code",
      "execution_count": null,
      "metadata": {
        "id": "JXMxMYf7sfRv"
      },
      "outputs": [],
      "source": [
        "#print(train_dset[0][0].shape)"
      ]
    },
    {
      "cell_type": "code",
      "execution_count": null,
      "metadata": {
        "id": "tXip_xvpkswM"
      },
      "outputs": [],
      "source": [
        "#print(len(train_dset))"
      ]
    },
    {
      "cell_type": "code",
      "execution_count": null,
      "metadata": {
        "id": "fZTi0ennkzMD"
      },
      "outputs": [],
      "source": [
        "#print(len(test_dset))"
      ]
    },
    {
      "cell_type": "code",
      "execution_count": null,
      "metadata": {
        "id": "l-xR8Is8Ti90"
      },
      "outputs": [],
      "source": [
        "\"\"\"\n",
        "def dataset_show_image(dset, idx):\n",
        "    X, Y = dset[idx]\n",
        "    title = \"Ground truth: {}\".format(dset.classes[Y])\n",
        "    fig = plt.figure()\n",
        "    ax = fig.add_subplot(111)\n",
        "    ax.set_axis_off()\n",
        "    ax.imshow(np.moveaxis(X.numpy(), 0, -1))\n",
        "    ax.set_title(title)\n",
        "    plt.show()\n",
        "\"\"\""
      ]
    },
    {
      "cell_type": "code",
      "execution_count": null,
      "metadata": {
        "id": "2SppK9F8TmgJ"
      },
      "outputs": [],
      "source": [
        "#dataset_show_image(test_dset, 1)"
      ]
    },
    {
      "cell_type": "code",
      "execution_count": null,
      "metadata": {
        "colab": {
          "base_uri": "https://localhost:8080/"
        },
        "id": "HTOAxeT3Ttsx",
        "outputId": "6668d23c-bc4a-4947-8cac-4d7e8eb16514"
      },
      "outputs": [
        {
          "name": "stderr",
          "output_type": "stream",
          "text": [
            "/usr/local/lib/python3.7/dist-packages/torch/utils/data/dataloader.py:560: UserWarning: This DataLoader will create 4 worker processes in total. Our suggested max number of worker in current system is 2, which is smaller than what this DataLoader is going to create. Please be aware that excessive worker creation might get DataLoader running slow or even freeze, lower the worker number to avoid potential slowness/freeze if necessary.\n",
            "  cpuset_checked))\n"
          ]
        }
      ],
      "source": [
        "#train_loader = torch.utils.data.DataLoader(train_dset, batch_size=BATCH_SIZE, shuffle=True,\n",
        "#                                           num_workers=NUM_WORKERS, pin_memory=True)\n",
        "#test_loader = torch.utils.data.DataLoader(test_dset, batch_size=BATCH_SIZE, shuffle=False,\n",
        "#                                          num_workers=NUM_WORKERS, pin_memory=True)"
      ]
    },
    {
      "cell_type": "markdown",
      "metadata": {
        "id": "FM1JgjxKTxv1"
      },
      "source": [
        "**Model**"
      ]
    },
    {
      "cell_type": "code",
      "execution_count": null,
      "metadata": {
        "id": "5axTqjB_T2H8"
      },
      "outputs": [],
      "source": [
        "class Residual(nn.Module):\n",
        "    def __init__(self, *layers):\n",
        "        super().__init__()\n",
        "        self.residual = nn.Sequential(*layers)\n",
        "        self.gamma = nn.Parameter(torch.zeros(1))\n",
        "    \n",
        "    def forward(self, x):\n",
        "        return x + self.gamma * self.residual(x)"
      ]
    },
    {
      "cell_type": "code",
      "execution_count": null,
      "metadata": {
        "id": "gnpzRVExUS6P"
      },
      "outputs": [],
      "source": [
        "class GlobalAvgPool(nn.Module):\n",
        "    def forward(self, x):\n",
        "        return x.mean(dim=-2)"
      ]
    },
    {
      "cell_type": "code",
      "execution_count": null,
      "metadata": {
        "id": "pa-w1b5GUW2M"
      },
      "outputs": [],
      "source": [
        "class ShiftedWindowAttention(nn.Module):\n",
        "    def __init__(self, dim, head_dim, shape, window_size, shift_size=0):\n",
        "        super().__init__()\n",
        "        self.heads = dim // head_dim\n",
        "        self.head_dim = head_dim\n",
        "        self.scale = head_dim**-0.5\n",
        "        \n",
        "        self.shape = shape\n",
        "        self.window_size = window_size\n",
        "        self.shift_size = shift_size\n",
        "        \n",
        "        self.to_qkv = nn.Linear(dim, dim * 3)\n",
        "        self.unifyheads = nn.Linear(dim, dim)\n",
        "        \n",
        "        self.pos_enc = nn.Parameter(torch.Tensor(self.heads, (2 * window_size - 1)**2))\n",
        "        self.register_buffer(\"relative_indices\", self.get_indices(window_size))\n",
        "        \n",
        "        if shift_size > 0:\n",
        "            self.register_buffer(\"mask\", self.generate_mask(shape, window_size, shift_size))\n",
        "    \n",
        "    \n",
        "    def forward(self, x):\n",
        "        shift_size, window_size = self.shift_size, self.window_size\n",
        "        \n",
        "        x = self.to_windows(x, self.shape, window_size, shift_size) # partition into windows\n",
        "        \n",
        "        # self attention\n",
        "        qkv = self.to_qkv(x).unflatten(-1, (3, self.heads, self.head_dim)).transpose(-2, 1)\n",
        "        queries, keys, values = qkv.unbind(dim=2)\n",
        "        \n",
        "        att = queries @ keys.transpose(-2, -1)\n",
        "        \n",
        "        att = att * self.scale + self.get_rel_pos_enc(window_size) # add relative positon encoding\n",
        "        \n",
        "        # masking\n",
        "        if shift_size > 0:\n",
        "            att = self.mask_attention(att)\n",
        "        \n",
        "        att = F.softmax(att, dim=-1)\n",
        "        \n",
        "        x = att @ values\n",
        "        x = x.transpose(1, 2).contiguous().flatten(-2, -1) # move head back\n",
        "        x = self.unifyheads(x)\n",
        "        \n",
        "        x = self.from_windows(x, self.shape, window_size, shift_size) # undo partitioning into windows\n",
        "        return x\n",
        "    \n",
        "    \n",
        "    def to_windows(self, x, shape, window_size, shift_size):\n",
        "        x = x.unflatten(1, shape)\n",
        "        if shift_size > 0:\n",
        "            x = x.roll((-shift_size, -shift_size), dims=(1, 2))\n",
        "        x = self.split_windows(x, window_size)\n",
        "        return x\n",
        "    \n",
        "    \n",
        "    def from_windows(self, x, shape, window_size, shift_size):\n",
        "        x = self.merge_windows(x, shape, window_size) \n",
        "        if shift_size > 0:\n",
        "            x = x.roll((shift_size, shift_size), dims=(1, 2))\n",
        "        x = x.flatten(1, 2)\n",
        "        return x\n",
        "    \n",
        "    \n",
        "    def mask_attention(self, att):\n",
        "        num_win = self.mask.size(1)\n",
        "        att = att.unflatten(0, (att.size(0) // num_win, num_win))\n",
        "        att = att.masked_fill(self.mask, float('-inf'))\n",
        "        att = att.flatten(0, 1)\n",
        "        return att\n",
        "    \n",
        "    \n",
        "    def get_rel_pos_enc(self, window_size):\n",
        "        indices = self.relative_indices.expand(self.heads, -1)\n",
        "        rel_pos_enc = self.pos_enc.gather(-1, indices)\n",
        "        rel_pos_enc = rel_pos_enc.unflatten(-1, (window_size**2, window_size**2))\n",
        "        return rel_pos_enc\n",
        "    \n",
        "    \n",
        "    # For explanation of mask regions see Figure 4 in the article\n",
        "    @staticmethod\n",
        "    def generate_mask(shape, window_size, shift_size):\n",
        "        region_mask = torch.zeros(1, *shape, 1)\n",
        "        slices = [slice(0, -window_size), slice(-window_size, -shift_size), slice(-shift_size, None)]\n",
        "        \n",
        "        region_num = 0\n",
        "        for i in slices:\n",
        "            for j in slices:\n",
        "                region_mask[:, i, j, :] = region_num\n",
        "                region_num += 1\n",
        "\n",
        "        mask_windows = ShiftedWindowAttention.split_windows(region_mask, window_size).squeeze(-1)\n",
        "        diff_mask = mask_windows.unsqueeze(1) - mask_windows.unsqueeze(2)\n",
        "        mask = diff_mask != 0\n",
        "        mask = mask.unsqueeze(1).unsqueeze(0) # add heads and batch dimension\n",
        "        return mask\n",
        "    \n",
        "    \n",
        "    @staticmethod\n",
        "    def split_windows(x, window_size):\n",
        "        n_h, n_w = x.size(1) // window_size, x.size(2) // window_size\n",
        "        x = x.unflatten(1, (n_h, window_size)).unflatten(-2, (n_w, window_size)) # split into windows\n",
        "        x = x.transpose(2, 3).flatten(0, 2) # merge batch and window numbers\n",
        "        x = x.flatten(-3, -2)\n",
        "        return x\n",
        "    \n",
        "    \n",
        "    @staticmethod\n",
        "    def merge_windows(x, shape, window_size):\n",
        "        n_h, n_w = shape[0] // window_size, shape[1] // window_size\n",
        "        b = x.size(0) // (n_h * n_w)\n",
        "        x = x.unflatten(1, (window_size, window_size))\n",
        "        x = x.unflatten(0, (b, n_h, n_w)).transpose(2, 3) # separate batch and window numbers\n",
        "        x = x.flatten(1, 2).flatten(-3, -2) # merge windows\n",
        "        return x\n",
        "    \n",
        "    \n",
        "    @staticmethod\n",
        "    def get_indices(window_size):\n",
        "        x = torch.arange(window_size, dtype=torch.long)\n",
        "        \n",
        "        y1, x1, y2, x2 = torch.meshgrid(x, x, x, x, indexing='ij')\n",
        "        indices = (y1 - y2 + window_size - 1) * (2 * window_size - 1) + x1 - x2 + window_size - 1\n",
        "        indices = indices.flatten()\n",
        "        \n",
        "        return indices"
      ]
    },
    {
      "cell_type": "code",
      "execution_count": null,
      "metadata": {
        "id": "oGw3rW48UZST"
      },
      "outputs": [],
      "source": [
        "class FeedForward(nn.Sequential):\n",
        "    def __init__(self, dim, mult=4):\n",
        "        hidden_dim = dim * mult\n",
        "        super().__init__(\n",
        "            nn.Linear(dim, hidden_dim),\n",
        "            nn.GELU(),\n",
        "            nn.Linear(hidden_dim, dim)   \n",
        "        )"
      ]
    },
    {
      "cell_type": "code",
      "execution_count": null,
      "metadata": {
        "id": "hP8gX_geUcgM"
      },
      "outputs": [],
      "source": [
        "class TransformerBlock(nn.Sequential):\n",
        "    def __init__(self, dim, head_dim, shape, window_size, shift_size=0, p_drop=0.):\n",
        "        super().__init__(\n",
        "            Residual(\n",
        "                nn.LayerNorm(dim),\n",
        "                ShiftedWindowAttention(dim, head_dim, shape, window_size, shift_size),\n",
        "                nn.Dropout(p_drop)\n",
        "            ),\n",
        "            Residual(\n",
        "                nn.LayerNorm(dim),\n",
        "                FeedForward(dim),\n",
        "                nn.Dropout(p_drop)\n",
        "            )\n",
        "        )"
      ]
    },
    {
      "cell_type": "code",
      "execution_count": null,
      "metadata": {
        "id": "Qnzl-v0BUfGe"
      },
      "outputs": [],
      "source": [
        "class PatchMerging(nn.Module):\n",
        "    def __init__(self, in_dim, out_dim, shape):\n",
        "        super().__init__()\n",
        "        self.shape = shape\n",
        "        self.norm = nn.LayerNorm(4 * in_dim)\n",
        "        self.reduction = nn.Linear(4 * in_dim, out_dim, bias=False)\n",
        "    \n",
        "    def forward(self, x):\n",
        "        x = x.unflatten(1, self.shape).movedim(-1, 1)\n",
        "        x = F.unfold(x, kernel_size=2, stride=2).movedim(1, -1)\n",
        "        \n",
        "        x = self.norm(x)\n",
        "        x = self.reduction(x)\n",
        "        return x"
      ]
    },
    {
      "cell_type": "code",
      "execution_count": null,
      "metadata": {
        "id": "nfUy0gF5Uhd9"
      },
      "outputs": [],
      "source": [
        "class Stage(nn.Sequential):\n",
        "    def __init__(self, num_blocks, in_dim, out_dim, head_dim, shape, window_size, p_drop=0.):\n",
        "        if out_dim != in_dim:\n",
        "            layers = [PatchMerging(in_dim, out_dim, shape)]\n",
        "            shape = (shape[0] // 2, shape[1] // 2)\n",
        "        else:\n",
        "            layers = []\n",
        "        \n",
        "        shift_size = window_size // 2\n",
        "        layers += [TransformerBlock(out_dim, head_dim, shape, window_size, 0 if (num % 2 == 0) else shift_size,\n",
        "                                    p_drop) for num in range(num_blocks)]\n",
        "        \n",
        "        super().__init__(*layers)"
      ]
    },
    {
      "cell_type": "code",
      "execution_count": null,
      "metadata": {
        "id": "vDvXTEFWUj3k"
      },
      "outputs": [],
      "source": [
        "class StageStack(nn.Sequential):\n",
        "    def __init__(self, num_blocks_list, dims, head_dim, shape, window_size, p_drop=0.):\n",
        "        layers = []\n",
        "        in_dim = dims[0]\n",
        "        for num, out_dim in zip(num_blocks_list, dims[1:]):\n",
        "            layers.append(Stage(num, in_dim, out_dim, head_dim, shape, window_size, p_drop))\n",
        "            if in_dim != out_dim:\n",
        "                shape = (shape[0] // 2, shape[1] // 2)\n",
        "                in_dim = out_dim\n",
        "        \n",
        "        super().__init__(*layers)"
      ]
    },
    {
      "cell_type": "code",
      "execution_count": null,
      "metadata": {
        "id": "OuNf8fVDUmGD"
      },
      "outputs": [],
      "source": [
        "class ToPatches(nn.Module):\n",
        "    def __init__(self, in_channels, dim, patch_size):\n",
        "        super().__init__()\n",
        "        self.patch_size = patch_size\n",
        "        patch_dim = in_channels * patch_size**2\n",
        "        self.proj = nn.Linear(patch_dim, dim)\n",
        "        self.norm = nn.LayerNorm(dim)\n",
        "    \n",
        "    def forward(self, x):\n",
        "        x = F.unfold(x, kernel_size=self.patch_size, stride=self.patch_size).movedim(1, -1)\n",
        "        x = self.proj(x)\n",
        "        x = self.norm(x)\n",
        "        return x"
      ]
    },
    {
      "cell_type": "code",
      "execution_count": null,
      "metadata": {
        "id": "g0UAh-b1Uoxt"
      },
      "outputs": [],
      "source": [
        "class AddPositionEmbedding(nn.Module):\n",
        "    def __init__(self, dim, num_patches):\n",
        "        super().__init__()\n",
        "        self.pos_embedding = nn.Parameter(torch.Tensor(num_patches, dim))\n",
        "    \n",
        "    def forward(self, x):\n",
        "        return x + self.pos_embedding"
      ]
    },
    {
      "cell_type": "code",
      "execution_count": null,
      "metadata": {
        "id": "8IlaHP-bUtHC"
      },
      "outputs": [],
      "source": [
        "class ToEmbedding(nn.Sequential):\n",
        "    def __init__(self, in_channels, dim, patch_size, num_patches, p_drop=0.):\n",
        "        super().__init__(\n",
        "            ToPatches(in_channels, dim, patch_size),\n",
        "            AddPositionEmbedding(dim, num_patches),\n",
        "            nn.Dropout(p_drop)\n",
        "        )"
      ]
    },
    {
      "cell_type": "code",
      "execution_count": null,
      "metadata": {
        "id": "OMTFeW6yUu_i"
      },
      "outputs": [],
      "source": [
        "class Head(nn.Sequential):\n",
        "    def __init__(self, dim, classes, p_drop=0.):\n",
        "        super().__init__(\n",
        "            nn.LayerNorm(dim),\n",
        "            nn.GELU(),\n",
        "            GlobalAvgPool(),\n",
        "            nn.Dropout(p_drop),\n",
        "            nn.Linear(dim, classes)\n",
        "        )"
      ]
    },
    {
      "cell_type": "code",
      "execution_count": null,
      "metadata": {
        "id": "NzdHXlXHUyAQ"
      },
      "outputs": [],
      "source": [
        "class SwinTransformer(nn.Sequential):\n",
        "    def __init__(self, classes, image_size, num_blocks_list, dims, head_dim, patch_size, window_size,\n",
        "                 in_channels=3, emb_p_drop=0., trans_p_drop=0., head_p_drop=0.):\n",
        "        reduced_size = image_size // patch_size\n",
        "        shape = (reduced_size, reduced_size)\n",
        "        num_patches = shape[0] * shape[1]\n",
        "        \n",
        "        super().__init__(\n",
        "            ToEmbedding(in_channels, dims[0], patch_size, num_patches, emb_p_drop),\n",
        "            StageStack(num_blocks_list, dims, head_dim, shape, window_size, trans_p_drop),\n",
        "            Head(dims[-1], classes, head_p_drop)\n",
        "        )\n",
        "        self.reset_parameters()\n",
        "    \n",
        "    def reset_parameters(self):\n",
        "        for m in self.modules():\n",
        "            if isinstance(m, nn.Linear):\n",
        "                nn.init.kaiming_normal_(m.weight)\n",
        "                if m.bias is not None: nn.init.zeros_(m.bias)\n",
        "            elif isinstance(m, nn.LayerNorm):\n",
        "                nn.init.constant_(m.weight, 1.)\n",
        "                nn.init.zeros_(m.bias)\n",
        "            elif isinstance(m, AddPositionEmbedding):\n",
        "                nn.init.normal_(m.pos_embedding, mean=0.0, std=0.02)\n",
        "            elif isinstance(m, ShiftedWindowAttention):\n",
        "                nn.init.normal_(m.pos_enc, mean=0.0, std=0.02)\n",
        "            elif isinstance(m, Residual):\n",
        "                nn.init.zeros_(m.gamma)\n",
        "    \n",
        "    def separate_parameters(self):\n",
        "        parameters_decay = set()\n",
        "        parameters_no_decay = set()\n",
        "        modules_weight_decay = (nn.Linear, )\n",
        "        modules_no_weight_decay = (nn.LayerNorm,)\n",
        "\n",
        "        for m_name, m in self.named_modules():\n",
        "            for param_name, param in m.named_parameters():\n",
        "                full_param_name = f\"{m_name}.{param_name}\" if m_name else param_name\n",
        "\n",
        "                if isinstance(m, modules_no_weight_decay):\n",
        "                    parameters_no_decay.add(full_param_name)\n",
        "                elif param_name.endswith(\"bias\"):\n",
        "                    parameters_no_decay.add(full_param_name)\n",
        "                elif isinstance(m, Residual) and param_name.endswith(\"gamma\"):\n",
        "                    parameters_no_decay.add(full_param_name)\n",
        "                elif isinstance(m, AddPositionEmbedding) and param_name.endswith(\"pos_embedding\"):\n",
        "                    parameters_no_decay.add(full_param_name)\n",
        "                elif isinstance(m, ShiftedWindowAttention) and param_name.endswith(\"pos_enc\"):\n",
        "                    parameters_no_decay.add(full_param_name)\n",
        "                elif isinstance(m, modules_weight_decay):\n",
        "                    parameters_decay.add(full_param_name)\n",
        "\n",
        "        # sanity check\n",
        "        assert len(parameters_decay & parameters_no_decay) == 0\n",
        "        assert len(parameters_decay) + len(parameters_no_decay) == len(list(model.parameters()))\n",
        "\n",
        "        return parameters_decay, parameters_no_decay"
      ]
    },
    {
      "cell_type": "code",
      "execution_count": null,
      "metadata": {
        "id": "AglqrzNHU1FZ"
      },
      "outputs": [],
      "source": [
        "model = SwinTransformer(NUM_CLASSES, IMAGE_SIZE,\n",
        "                        num_blocks_list=[4, 4], dims=[128, 128, 256],\n",
        "                        head_dim=128, patch_size=4, window_size=8,\n",
        "                        emb_p_drop=0., trans_p_drop=0., head_p_drop=0.3)"
      ]
    },
    {
      "cell_type": "code",
      "execution_count": null,
      "metadata": {
        "colab": {
          "base_uri": "https://localhost:8080/"
        },
        "id": "NjBVTF3qlRA5",
        "outputId": "19160c56-82d9-4384-9079-b0a1789e5aea"
      },
      "outputs": [
        {
          "name": "stdout",
          "output_type": "stream",
          "text": [
            "200\n"
          ]
        }
      ],
      "source": [
        "print(EPOCHS)"
      ]
    },
    {
      "cell_type": "code",
      "execution_count": null,
      "metadata": {
        "colab": {
          "base_uri": "https://localhost:8080/"
        },
        "id": "Vajpg029-uTy",
        "outputId": "b2340ec9-fe56-4496-991e-4c2cd7abb332"
      },
      "outputs": [
        {
          "name": "stdout",
          "output_type": "stream",
          "text": [
            "128\n"
          ]
        }
      ],
      "source": [
        "print(IMAGE_SIZE)"
      ]
    },
    {
      "cell_type": "code",
      "execution_count": null,
      "metadata": {
        "id": "QfN98XwBU3yZ"
      },
      "outputs": [],
      "source": [
        "model.to(DEVICE);"
      ]
    },
    {
      "cell_type": "code",
      "execution_count": null,
      "metadata": {
        "id": "3Et_ihlez31U"
      },
      "outputs": [],
      "source": [
        "\n",
        "from IPython.display import HTML, display\n",
        "\n",
        "def progress(value, max=100):\n",
        "    return HTML(\"\"\"\n",
        "        <progress\n",
        "            value='{value}'\n",
        "            max='{max}',\n",
        "            style='width: 100%'\n",
        "        >\n",
        "            {value}\n",
        "        </progress>\n",
        "    \"\"\".format(value=value, max=max)) "
      ]
    },
    {
      "cell_type": "code",
      "execution_count": null,
      "metadata": {
        "id": "PqqZ-AExy2Mr"
      },
      "outputs": [],
      "source": [
        "\n",
        "import time\n",
        "import math\n",
        "import copy\n",
        "model_acc = []\n",
        "model_loss = []\n",
        "model_val_acc = []\n",
        "model_val_loss = []\n",
        "def train_model(model, criterion, optimizer, scheduler, num_epochs=20, path='model.pth'):\n",
        "   \n",
        "    start = time.time()\n",
        "    pb_train = display(progress(0, num_epochs), display_id=True)\n",
        "    pb_phase = display(progress(0, 10), display_id=True)\n",
        "    \n",
        "    best_model_wts = copy.deepcopy(model.state_dict())\n",
        "    best_loss = math.inf\n",
        "    best_acc = 0.\n",
        "    \n",
        "    for epoch in range(num_epochs):\n",
        "        pb_train.update(progress(epoch+1, num_epochs))\n",
        "        \n",
        "        print('Epoch {}/{}'.format(epoch+1, num_epochs))\n",
        "        \n",
        "        for phase in ['train', 'val']:\n",
        "            if phase == 'train':\n",
        "                model.train()\n",
        "            else:\n",
        "                model.eval()\n",
        "                \n",
        "            running_loss = 0.0\n",
        "            running_corrects = 0\n",
        "            \n",
        "            for i, (inputs, labels) in enumerate(data_loader[phase]):\n",
        "                pb_phase.update(progress(i+1, len(data_loader[phase])))\n",
        "                inputs = inputs.to(DEVICE)\n",
        "                labels = labels.to(DEVICE)\n",
        "                \n",
        "                optimizer.zero_grad()\n",
        "                if i%1000==999:\n",
        "                    print(f\"[{epoch+1}, {i} loss: {running_loss/(i*inputs.size(0)):.4f}]\")\n",
        "                \n",
        "                with torch.set_grad_enabled(phase=='train'):\n",
        "                    outputs = model(inputs)\n",
        "                    _, preds = torch.max(outputs, 1)\n",
        "                    loss = criterion(outputs, labels)\n",
        "                    if phase=='train':\n",
        "                        loss.backward()\n",
        "                        optimizer.step()\n",
        "                        \n",
        "                running_loss += loss.item()*inputs.size(0)\n",
        "                running_corrects += torch.sum(preds==labels.data)\n",
        "\n",
        "            epoch_loss = running_loss/dataset_sizes[phase]\n",
        "            epoch_acc = running_corrects/dataset_sizes[phase]    \n",
        "            if phase=='train':\n",
        "                scheduler.step()\n",
        "                model_acc.append(epoch_acc)\n",
        "                model_loss.append(epoch_loss)\n",
        "            if phase=='val':\n",
        "               model_val_acc.append(epoch_acc)\n",
        "               model_val_loss.append(epoch_loss)   \n",
        "            \n",
        "            \n",
        "            \n",
        "            print('{} loss: {:.4f} acc: {:.4f}'.format(phase, epoch_loss, epoch_acc))\n",
        "            \n",
        "            if phase=='val' and epoch_acc>best_acc:\n",
        "                print(f'New acc: {epoch_acc:.4f}, previous acc: {best_acc:.4f}')\n",
        "                best_loss = epoch_loss\n",
        "                best_acc = epoch_acc\n",
        "                best_model_wts = copy.deepcopy(model.state_dict())\n",
        "                torch.save({'model_state_dict': model.state_dict(),\n",
        "                            'optimizer_state_dict': optimizer.state_dict(),\n",
        "                            'best_val_loss': best_loss,\n",
        "                            'best_val_accuracy': best_acc,\n",
        "                            'scheduler_state_dict' : scheduler.state_dict(),\n",
        "                            }, path)\n",
        "                print(f'New model is SAVED')\n",
        "                print()\n",
        "    time_elapsed = time.time()-start\n",
        "    print('Training complete in: {:.0f}m {:.0f}s'.format(time_elapsed//60, time_elapsed%60))\n",
        "    print('Best val acc: {:.4f} Best val loss: {:.4f}'.format(best_acc, best_loss))\n",
        "    \n",
        "    model.load_state_dict(best_model_wts)\n",
        "    return model, best_loss, best_acc\n",
        "   "
      ]
    },
    {
      "cell_type": "code",
      "execution_count": null,
      "metadata": {
        "colab": {
          "base_uri": "https://localhost:8080/"
        },
        "id": "479qr8ApzSjL",
        "outputId": "08a12172-66a6-4058-8f80-3304b3f6cff5"
      },
      "outputs": [
        {
          "name": "stdout",
          "output_type": "stream",
          "text": [
            "The number of parameters of the model:  4225566\n"
          ]
        }
      ],
      "source": [
        "\n",
        "for param in model.parameters():\n",
        "    param.requires_grad = True\n",
        "\n",
        "criterion = nn.CrossEntropyLoss()\n",
        "optimizer = optim.SGD(model.parameters(), lr=LEARNING_RATE)\n",
        "lr_scheduler = optim.lr_scheduler.OneCycleLR(optimizer, max_lr=LEARNING_RATE,\n",
        "                                             steps_per_epoch=len(data_loader['train']), epochs=EPOCHS)\n",
        "\n",
        "def count_params(model):\n",
        "    return sum(p.numel() for p in model.parameters() if p.requires_grad)\n",
        "\n",
        "print(\"The number of parameters of the model: \", count_params(model))\n"
      ]
    },
    {
      "cell_type": "code",
      "execution_count": 53,
      "metadata": {
        "colab": {
          "base_uri": "https://localhost:8080/",
          "height": 1000
        },
        "id": "4KTdMr6PzGsS",
        "outputId": "fa02c58a-0620-406e-9315-dd72648dad81"
      },
      "outputs": [
        {
          "data": {
            "text/html": [
              "\n",
              "        <progress\n",
              "            value='148'\n",
              "            max='200',\n",
              "            style='width: 100%'\n",
              "        >\n",
              "            148\n",
              "        </progress>\n",
              "    "
            ],
            "text/plain": [
              "<IPython.core.display.HTML object>"
            ]
          },
          "metadata": {},
          "output_type": "display_data"
        },
        {
          "data": {
            "text/html": [
              "\n",
              "        <progress\n",
              "            value='612'\n",
              "            max='782',\n",
              "            style='width: 100%'\n",
              "        >\n",
              "            612\n",
              "        </progress>\n",
              "    "
            ],
            "text/plain": [
              "<IPython.core.display.HTML object>"
            ]
          },
          "metadata": {},
          "output_type": "display_data"
        },
        {
          "metadata": {
            "tags": null
          },
          "name": "stdout",
          "output_type": "stream",
          "text": [
            "Epoch 1/200\n",
            "train loss: 0.7361 acc: 0.5027\n",
            "val loss: 0.6911 acc: 0.5150\n",
            "New acc: 0.5150, previous acc: 0.0000\n",
            "New model is SAVED\n",
            "\n",
            "Epoch 2/200\n",
            "train loss: 0.7069 acc: 0.5088\n",
            "val loss: 0.6925 acc: 0.5030\n",
            "Epoch 3/200\n",
            "train loss: 0.7004 acc: 0.5150\n",
            "val loss: 0.6909 acc: 0.5384\n",
            "New acc: 0.5384, previous acc: 0.5150\n",
            "New model is SAVED\n",
            "\n",
            "Epoch 4/200\n",
            "train loss: 0.7002 acc: 0.5112\n",
            "val loss: 0.6903 acc: 0.5312\n",
            "Epoch 5/200\n",
            "train loss: 0.6967 acc: 0.5153\n",
            "val loss: 0.6907 acc: 0.5304\n",
            "Epoch 6/200\n",
            "train loss: 0.6950 acc: 0.5152\n",
            "val loss: 0.6903 acc: 0.5180\n",
            "Epoch 7/200\n",
            "train loss: 0.6954 acc: 0.5131\n",
            "val loss: 0.6903 acc: 0.5208\n",
            "Epoch 8/200\n",
            "train loss: 0.6936 acc: 0.5199\n",
            "val loss: 0.6908 acc: 0.5070\n",
            "Epoch 9/200\n",
            "train loss: 0.6927 acc: 0.5220\n",
            "val loss: 0.6897 acc: 0.5446\n",
            "New acc: 0.5446, previous acc: 0.5384\n",
            "New model is SAVED\n",
            "\n",
            "Epoch 10/200\n",
            "train loss: 0.6918 acc: 0.5256\n",
            "val loss: 0.6898 acc: 0.5576\n",
            "New acc: 0.5576, previous acc: 0.5446\n",
            "New model is SAVED\n",
            "\n",
            "Epoch 11/200\n",
            "train loss: 0.6926 acc: 0.5201\n",
            "val loss: 0.6894 acc: 0.5398\n",
            "Epoch 12/200\n",
            "train loss: 0.6923 acc: 0.5240\n",
            "val loss: 0.6893 acc: 0.5534\n",
            "Epoch 13/200\n",
            "train loss: 0.6919 acc: 0.5248\n",
            "val loss: 0.6894 acc: 0.5266\n",
            "Epoch 14/200\n",
            "train loss: 0.6906 acc: 0.5282\n",
            "val loss: 0.6892 acc: 0.5656\n",
            "New acc: 0.5656, previous acc: 0.5576\n",
            "New model is SAVED\n",
            "\n",
            "Epoch 15/200\n",
            "train loss: 0.6913 acc: 0.5244\n",
            "val loss: 0.6896 acc: 0.5200\n",
            "Epoch 16/200\n",
            "train loss: 0.6918 acc: 0.5175\n",
            "val loss: 0.6890 acc: 0.5688\n",
            "New acc: 0.5688, previous acc: 0.5656\n",
            "New model is SAVED\n",
            "\n",
            "Epoch 17/200\n",
            "train loss: 0.6909 acc: 0.5261\n",
            "val loss: 0.6887 acc: 0.5304\n",
            "Epoch 18/200\n",
            "train loss: 0.6906 acc: 0.5281\n",
            "val loss: 0.6888 acc: 0.5290\n",
            "Epoch 19/200\n",
            "train loss: 0.6896 acc: 0.5319\n",
            "val loss: 0.6890 acc: 0.5264\n",
            "Epoch 20/200\n",
            "train loss: 0.6896 acc: 0.5337\n",
            "val loss: 0.6881 acc: 0.5376\n",
            "Epoch 21/200\n",
            "train loss: 0.6900 acc: 0.5312\n",
            "val loss: 0.6880 acc: 0.5730\n",
            "New acc: 0.5730, previous acc: 0.5688\n",
            "New model is SAVED\n",
            "\n",
            "Epoch 22/200\n",
            "train loss: 0.6886 acc: 0.5350\n",
            "val loss: 0.6878 acc: 0.5370\n",
            "Epoch 23/200\n",
            "train loss: 0.6890 acc: 0.5341\n",
            "val loss: 0.6891 acc: 0.5238\n",
            "Epoch 24/200\n",
            "train loss: 0.6882 acc: 0.5389\n",
            "val loss: 0.6880 acc: 0.5284\n",
            "Epoch 25/200\n",
            "train loss: 0.6889 acc: 0.5345\n",
            "val loss: 0.6872 acc: 0.5430\n",
            "Epoch 26/200\n",
            "train loss: 0.6887 acc: 0.5391\n",
            "val loss: 0.6870 acc: 0.5652\n",
            "Epoch 27/200\n",
            "train loss: 0.6877 acc: 0.5410\n",
            "val loss: 0.6872 acc: 0.5790\n",
            "New acc: 0.5790, previous acc: 0.5730\n",
            "New model is SAVED\n",
            "\n",
            "Epoch 28/200\n",
            "train loss: 0.6881 acc: 0.5350\n",
            "val loss: 0.6889 acc: 0.5178\n",
            "Epoch 29/200\n",
            "train loss: 0.6873 acc: 0.5433\n",
            "val loss: 0.6867 acc: 0.5416\n",
            "Epoch 30/200\n",
            "train loss: 0.6873 acc: 0.5426\n",
            "val loss: 0.6870 acc: 0.5322\n",
            "Epoch 31/200\n",
            "train loss: 0.6867 acc: 0.5464\n",
            "val loss: 0.6861 acc: 0.5540\n",
            "Epoch 32/200\n",
            "train loss: 0.6865 acc: 0.5476\n",
            "val loss: 0.6863 acc: 0.5810\n",
            "New acc: 0.5810, previous acc: 0.5790\n",
            "New model is SAVED\n",
            "\n",
            "Epoch 33/200\n",
            "train loss: 0.6862 acc: 0.5470\n",
            "val loss: 0.6865 acc: 0.5326\n",
            "Epoch 34/200\n",
            "train loss: 0.6870 acc: 0.5432\n",
            "val loss: 0.6868 acc: 0.5548\n",
            "Epoch 35/200\n",
            "train loss: 0.6856 acc: 0.5475\n",
            "val loss: 0.6856 acc: 0.5436\n",
            "Epoch 36/200\n",
            "train loss: 0.6861 acc: 0.5487\n",
            "val loss: 0.6855 acc: 0.5392\n",
            "Epoch 37/200\n",
            "train loss: 0.6855 acc: 0.5462\n",
            "val loss: 0.6853 acc: 0.5420\n",
            "Epoch 38/200\n",
            "train loss: 0.6848 acc: 0.5489\n",
            "val loss: 0.6846 acc: 0.5620\n",
            "Epoch 39/200\n",
            "train loss: 0.6851 acc: 0.5501\n",
            "val loss: 0.6882 acc: 0.5208\n",
            "Epoch 40/200\n",
            "train loss: 0.6851 acc: 0.5529\n",
            "val loss: 0.6843 acc: 0.5840\n",
            "New acc: 0.5840, previous acc: 0.5810\n",
            "New model is SAVED\n",
            "\n",
            "Epoch 41/200\n",
            "train loss: 0.6848 acc: 0.5494\n",
            "val loss: 0.6840 acc: 0.5490\n",
            "Epoch 42/200\n",
            "train loss: 0.6837 acc: 0.5538\n",
            "val loss: 0.6851 acc: 0.5362\n",
            "Epoch 43/200\n",
            "train loss: 0.6830 acc: 0.5546\n",
            "val loss: 0.6836 acc: 0.5496\n",
            "Epoch 44/200\n",
            "train loss: 0.6830 acc: 0.5554\n",
            "val loss: 0.6832 acc: 0.5680\n",
            "Epoch 45/200\n",
            "train loss: 0.6841 acc: 0.5514\n",
            "val loss: 0.6834 acc: 0.5802\n",
            "Epoch 46/200\n",
            "train loss: 0.6826 acc: 0.5543\n",
            "val loss: 0.6829 acc: 0.5858\n",
            "New acc: 0.5858, previous acc: 0.5840\n",
            "New model is SAVED\n",
            "\n",
            "Epoch 47/200\n",
            "train loss: 0.6829 acc: 0.5529\n",
            "val loss: 0.6825 acc: 0.5814\n",
            "Epoch 48/200\n",
            "train loss: 0.6829 acc: 0.5582\n",
            "val loss: 0.6831 acc: 0.5412\n",
            "Epoch 49/200\n",
            "train loss: 0.6813 acc: 0.5601\n",
            "val loss: 0.6821 acc: 0.5568\n",
            "Epoch 50/200\n",
            "train loss: 0.6820 acc: 0.5578\n",
            "val loss: 0.6816 acc: 0.5756\n",
            "Epoch 51/200\n",
            "train loss: 0.6810 acc: 0.5616\n",
            "val loss: 0.6812 acc: 0.5738\n",
            "Epoch 52/200\n",
            "train loss: 0.6803 acc: 0.5640\n",
            "val loss: 0.6848 acc: 0.5340\n",
            "Epoch 53/200\n",
            "train loss: 0.6807 acc: 0.5613\n",
            "val loss: 0.6810 acc: 0.5544\n",
            "Epoch 54/200\n",
            "train loss: 0.6798 acc: 0.5614\n",
            "val loss: 0.6869 acc: 0.5254\n",
            "Epoch 55/200\n",
            "train loss: 0.6793 acc: 0.5639\n",
            "val loss: 0.6801 acc: 0.5628\n",
            "Epoch 56/200\n",
            "train loss: 0.6788 acc: 0.5639\n",
            "val loss: 0.6863 acc: 0.5346\n",
            "Epoch 57/200\n",
            "train loss: 0.6787 acc: 0.5655\n",
            "val loss: 0.6790 acc: 0.5814\n",
            "Epoch 58/200\n",
            "train loss: 0.6785 acc: 0.5668\n",
            "val loss: 0.6785 acc: 0.5720\n",
            "Epoch 59/200\n",
            "train loss: 0.6780 acc: 0.5676\n",
            "val loss: 0.6823 acc: 0.5560\n",
            "Epoch 60/200\n",
            "train loss: 0.6774 acc: 0.5709\n",
            "val loss: 0.6783 acc: 0.5794\n",
            "Epoch 61/200\n",
            "train loss: 0.6776 acc: 0.5683\n",
            "val loss: 0.6772 acc: 0.5786\n",
            "Epoch 62/200\n",
            "train loss: 0.6760 acc: 0.5728\n",
            "val loss: 0.6780 acc: 0.5654\n",
            "Epoch 63/200\n",
            "train loss: 0.6751 acc: 0.5738\n",
            "val loss: 0.6781 acc: 0.5664\n",
            "Epoch 64/200\n",
            "train loss: 0.6751 acc: 0.5728\n",
            "val loss: 0.6754 acc: 0.5788\n",
            "Epoch 65/200\n",
            "train loss: 0.6742 acc: 0.5767\n",
            "val loss: 0.6785 acc: 0.5640\n",
            "Epoch 66/200\n",
            "train loss: 0.6738 acc: 0.5756\n",
            "val loss: 0.6746 acc: 0.5796\n",
            "Epoch 67/200\n",
            "train loss: 0.6738 acc: 0.5784\n",
            "val loss: 0.6741 acc: 0.5836\n",
            "Epoch 68/200\n",
            "train loss: 0.6731 acc: 0.5748\n",
            "val loss: 0.6734 acc: 0.5832\n",
            "Epoch 69/200\n",
            "train loss: 0.6731 acc: 0.5794\n",
            "val loss: 0.6730 acc: 0.5830\n",
            "Epoch 70/200\n",
            "train loss: 0.6720 acc: 0.5788\n",
            "val loss: 0.6724 acc: 0.5820\n",
            "Epoch 71/200\n",
            "train loss: 0.6712 acc: 0.5805\n",
            "val loss: 0.6761 acc: 0.5614\n",
            "Epoch 72/200\n",
            "train loss: 0.6705 acc: 0.5833\n",
            "val loss: 0.6713 acc: 0.5838\n",
            "Epoch 73/200\n",
            "train loss: 0.6699 acc: 0.5830\n",
            "val loss: 0.6709 acc: 0.5890\n",
            "New acc: 0.5890, previous acc: 0.5858\n",
            "New model is SAVED\n",
            "\n",
            "Epoch 74/200\n",
            "train loss: 0.6694 acc: 0.5861\n",
            "val loss: 0.6696 acc: 0.5898\n",
            "New acc: 0.5898, previous acc: 0.5890\n",
            "New model is SAVED\n",
            "\n",
            "Epoch 75/200\n",
            "train loss: 0.6690 acc: 0.5865\n",
            "val loss: 0.6693 acc: 0.5920\n",
            "New acc: 0.5920, previous acc: 0.5898\n",
            "New model is SAVED\n",
            "\n",
            "Epoch 76/200\n",
            "train loss: 0.6673 acc: 0.5908\n",
            "val loss: 0.6681 acc: 0.5872\n",
            "Epoch 77/200\n",
            "train loss: 0.6672 acc: 0.5928\n",
            "val loss: 0.6697 acc: 0.5816\n",
            "Epoch 78/200\n",
            "train loss: 0.6662 acc: 0.5910\n",
            "val loss: 0.6699 acc: 0.5780\n",
            "Epoch 79/200\n",
            "train loss: 0.6640 acc: 0.5964\n",
            "val loss: 0.6650 acc: 0.5946\n",
            "New acc: 0.5946, previous acc: 0.5920\n",
            "New model is SAVED\n",
            "\n",
            "Epoch 80/200\n",
            "train loss: 0.6631 acc: 0.5932\n",
            "val loss: 0.6622 acc: 0.5982\n",
            "New acc: 0.5982, previous acc: 0.5946\n",
            "New model is SAVED\n",
            "\n",
            "Epoch 81/200\n",
            "train loss: 0.6610 acc: 0.5996\n",
            "val loss: 0.6583 acc: 0.6066\n",
            "New acc: 0.6066, previous acc: 0.5982\n",
            "New model is SAVED\n",
            "\n",
            "Epoch 82/200\n",
            "train loss: 0.6544 acc: 0.6119\n",
            "val loss: 0.6495 acc: 0.6252\n",
            "New acc: 0.6252, previous acc: 0.6066\n",
            "New model is SAVED\n",
            "\n",
            "Epoch 83/200\n",
            "train loss: 0.6482 acc: 0.6220\n",
            "val loss: 0.6399 acc: 0.6418\n",
            "New acc: 0.6418, previous acc: 0.6252\n",
            "New model is SAVED\n",
            "\n",
            "Epoch 84/200\n",
            "train loss: 0.6360 acc: 0.6375\n",
            "val loss: 0.6276 acc: 0.6536\n",
            "New acc: 0.6536, previous acc: 0.6418\n",
            "New model is SAVED\n",
            "\n",
            "Epoch 85/200\n",
            "train loss: 0.6246 acc: 0.6510\n",
            "val loss: 0.6222 acc: 0.6516\n",
            "Epoch 86/200\n",
            "train loss: 0.6115 acc: 0.6654\n",
            "val loss: 0.5990 acc: 0.6808\n",
            "New acc: 0.6808, previous acc: 0.6536\n",
            "New model is SAVED\n",
            "\n",
            "Epoch 87/200\n",
            "train loss: 0.6014 acc: 0.6806\n",
            "val loss: 0.6207 acc: 0.6542\n",
            "Epoch 88/200\n",
            "train loss: 0.5896 acc: 0.6909\n",
            "val loss: 0.5784 acc: 0.7014\n",
            "New acc: 0.7014, previous acc: 0.6808\n",
            "New model is SAVED\n",
            "\n",
            "Epoch 89/200\n",
            "train loss: 0.5796 acc: 0.6977\n",
            "val loss: 0.5706 acc: 0.7066\n",
            "New acc: 0.7066, previous acc: 0.7014\n",
            "New model is SAVED\n",
            "\n",
            "Epoch 90/200\n",
            "train loss: 0.5732 acc: 0.7054\n",
            "val loss: 0.5618 acc: 0.7112\n",
            "New acc: 0.7112, previous acc: 0.7066\n",
            "New model is SAVED\n",
            "\n",
            "Epoch 91/200\n",
            "train loss: 0.5619 acc: 0.7150\n",
            "val loss: 0.5554 acc: 0.7162\n",
            "New acc: 0.7162, previous acc: 0.7112\n",
            "New model is SAVED\n",
            "\n",
            "Epoch 92/200\n",
            "train loss: 0.5575 acc: 0.7181\n",
            "val loss: 0.5498 acc: 0.7210\n",
            "New acc: 0.7210, previous acc: 0.7162\n",
            "New model is SAVED\n",
            "\n",
            "Epoch 93/200\n",
            "train loss: 0.5509 acc: 0.7229\n",
            "val loss: 0.5393 acc: 0.7260\n",
            "New acc: 0.7260, previous acc: 0.7210\n",
            "New model is SAVED\n",
            "\n",
            "Epoch 94/200\n",
            "train loss: 0.5438 acc: 0.7296\n",
            "val loss: 0.5371 acc: 0.7276\n",
            "New acc: 0.7276, previous acc: 0.7260\n",
            "New model is SAVED\n",
            "\n",
            "Epoch 95/200\n",
            "train loss: 0.5376 acc: 0.7338\n",
            "val loss: 0.5533 acc: 0.7198\n",
            "Epoch 96/200\n",
            "train loss: 0.5358 acc: 0.7348\n",
            "val loss: 0.5252 acc: 0.7326\n",
            "New acc: 0.7326, previous acc: 0.7276\n",
            "New model is SAVED\n",
            "\n",
            "Epoch 97/200\n",
            "train loss: 0.5296 acc: 0.7374\n",
            "val loss: 0.5207 acc: 0.7404\n",
            "New acc: 0.7404, previous acc: 0.7326\n",
            "New model is SAVED\n",
            "\n",
            "Epoch 98/200\n",
            "train loss: 0.5203 acc: 0.7476\n",
            "val loss: 0.5148 acc: 0.7448\n",
            "New acc: 0.7448, previous acc: 0.7404\n",
            "New model is SAVED\n",
            "\n",
            "Epoch 99/200\n",
            "train loss: 0.5206 acc: 0.7479\n",
            "val loss: 0.5139 acc: 0.7438\n",
            "Epoch 100/200\n",
            "train loss: 0.5170 acc: 0.7506\n",
            "val loss: 0.5116 acc: 0.7502\n",
            "New acc: 0.7502, previous acc: 0.7448\n",
            "New model is SAVED\n",
            "\n",
            "Epoch 101/200\n",
            "train loss: 0.5111 acc: 0.7539\n",
            "val loss: 0.5246 acc: 0.7488\n",
            "Epoch 102/200\n",
            "train loss: 0.5095 acc: 0.7576\n",
            "val loss: 0.5026 acc: 0.7486\n",
            "Epoch 103/200\n",
            "train loss: 0.5051 acc: 0.7582\n",
            "val loss: 0.4958 acc: 0.7550\n",
            "New acc: 0.7550, previous acc: 0.7502\n",
            "New model is SAVED\n",
            "\n",
            "Epoch 104/200\n",
            "train loss: 0.4998 acc: 0.7600\n",
            "val loss: 0.4920 acc: 0.7586\n",
            "New acc: 0.7586, previous acc: 0.7550\n",
            "New model is SAVED\n",
            "\n",
            "Epoch 105/200\n",
            "train loss: 0.4968 acc: 0.7628\n",
            "val loss: 0.4897 acc: 0.7608\n",
            "New acc: 0.7608, previous acc: 0.7586\n",
            "New model is SAVED\n",
            "\n",
            "Epoch 106/200\n",
            "train loss: 0.4936 acc: 0.7632\n",
            "val loss: 0.4849 acc: 0.7622\n",
            "New acc: 0.7622, previous acc: 0.7608\n",
            "New model is SAVED\n",
            "\n",
            "Epoch 107/200\n",
            "train loss: 0.4924 acc: 0.7658\n",
            "val loss: 0.4844 acc: 0.7622\n",
            "Epoch 108/200\n",
            "train loss: 0.4868 acc: 0.7708\n",
            "val loss: 0.4778 acc: 0.7704\n",
            "New acc: 0.7704, previous acc: 0.7622\n",
            "New model is SAVED\n",
            "\n",
            "Epoch 109/200\n",
            "train loss: 0.4835 acc: 0.7711\n",
            "val loss: 0.4881 acc: 0.7628\n",
            "Epoch 110/200\n",
            "train loss: 0.4796 acc: 0.7742\n",
            "val loss: 0.4715 acc: 0.7704\n",
            "Epoch 111/200\n",
            "train loss: 0.4779 acc: 0.7743\n",
            "val loss: 0.4674 acc: 0.7772\n",
            "New acc: 0.7772, previous acc: 0.7704\n",
            "New model is SAVED\n",
            "\n",
            "Epoch 112/200\n",
            "train loss: 0.4754 acc: 0.7763\n",
            "val loss: 0.4886 acc: 0.7614\n",
            "Epoch 113/200\n",
            "train loss: 0.4759 acc: 0.7746\n",
            "val loss: 0.4680 acc: 0.7738\n",
            "Epoch 114/200\n",
            "train loss: 0.4669 acc: 0.7819\n",
            "val loss: 0.4709 acc: 0.7734\n",
            "Epoch 115/200\n",
            "train loss: 0.4676 acc: 0.7826\n",
            "val loss: 0.4629 acc: 0.7844\n",
            "New acc: 0.7844, previous acc: 0.7772\n",
            "New model is SAVED\n",
            "\n",
            "Epoch 116/200\n",
            "train loss: 0.4601 acc: 0.7881\n",
            "val loss: 0.4667 acc: 0.7806\n",
            "Epoch 117/200\n",
            "train loss: 0.4571 acc: 0.7885\n",
            "val loss: 0.4666 acc: 0.7800\n",
            "Epoch 118/200\n",
            "train loss: 0.4556 acc: 0.7889\n",
            "val loss: 0.4540 acc: 0.7870\n",
            "New acc: 0.7870, previous acc: 0.7844\n",
            "New model is SAVED\n",
            "\n",
            "Epoch 119/200\n",
            "train loss: 0.4557 acc: 0.7867\n",
            "val loss: 0.4513 acc: 0.7888\n",
            "New acc: 0.7888, previous acc: 0.7870\n",
            "New model is SAVED\n",
            "\n",
            "Epoch 120/200\n",
            "train loss: 0.4526 acc: 0.7893\n",
            "val loss: 0.4615 acc: 0.7844\n",
            "Epoch 121/200\n",
            "train loss: 0.4478 acc: 0.7930\n",
            "val loss: 0.4455 acc: 0.7948\n",
            "New acc: 0.7948, previous acc: 0.7888\n",
            "New model is SAVED\n",
            "\n",
            "Epoch 122/200\n",
            "train loss: 0.4445 acc: 0.7941\n",
            "val loss: 0.4421 acc: 0.7938\n",
            "Epoch 123/200\n",
            "train loss: 0.4427 acc: 0.7986\n",
            "val loss: 0.4489 acc: 0.7906\n",
            "Epoch 124/200\n",
            "train loss: 0.4412 acc: 0.7950\n",
            "val loss: 0.4594 acc: 0.7824\n",
            "Epoch 125/200\n",
            "train loss: 0.4381 acc: 0.7995\n",
            "val loss: 0.4352 acc: 0.7964\n",
            "New acc: 0.7964, previous acc: 0.7948\n",
            "New model is SAVED\n",
            "\n",
            "Epoch 126/200\n",
            "train loss: 0.4355 acc: 0.8001\n",
            "val loss: 0.4352 acc: 0.7978\n",
            "New acc: 0.7978, previous acc: 0.7964\n",
            "New model is SAVED\n",
            "\n",
            "Epoch 127/200\n",
            "train loss: 0.4335 acc: 0.8018\n",
            "val loss: 0.4322 acc: 0.8014\n",
            "New acc: 0.8014, previous acc: 0.7978\n",
            "New model is SAVED\n",
            "\n",
            "Epoch 128/200\n",
            "train loss: 0.4289 acc: 0.8050\n",
            "val loss: 0.4392 acc: 0.7924\n",
            "Epoch 129/200\n",
            "train loss: 0.4301 acc: 0.8038\n",
            "val loss: 0.4254 acc: 0.8048\n",
            "New acc: 0.8048, previous acc: 0.8014\n",
            "New model is SAVED\n",
            "\n",
            "Epoch 130/200\n",
            "train loss: 0.4233 acc: 0.8068\n",
            "val loss: 0.4249 acc: 0.8014\n",
            "Epoch 131/200\n",
            "train loss: 0.4240 acc: 0.8062\n",
            "val loss: 0.4244 acc: 0.8032\n",
            "Epoch 132/200\n",
            "train loss: 0.4206 acc: 0.8100\n",
            "val loss: 0.4227 acc: 0.8006\n",
            "Epoch 133/200\n",
            "train loss: 0.4179 acc: 0.8127\n",
            "val loss: 0.4447 acc: 0.7926\n",
            "Epoch 134/200\n",
            "train loss: 0.4171 acc: 0.8101\n",
            "val loss: 0.4277 acc: 0.8046\n",
            "Epoch 135/200\n",
            "train loss: 0.4137 acc: 0.8136\n",
            "val loss: 0.4384 acc: 0.7988\n",
            "Epoch 136/200\n",
            "train loss: 0.4125 acc: 0.8152\n",
            "val loss: 0.4159 acc: 0.8068\n",
            "New acc: 0.8068, previous acc: 0.8048\n",
            "New model is SAVED\n",
            "\n",
            "Epoch 137/200\n",
            "train loss: 0.4052 acc: 0.8196\n",
            "val loss: 0.4095 acc: 0.8120\n",
            "New acc: 0.8120, previous acc: 0.8068\n",
            "New model is SAVED\n",
            "\n",
            "Epoch 138/200\n",
            "train loss: 0.4058 acc: 0.8168\n",
            "val loss: 0.4134 acc: 0.8110\n",
            "Epoch 139/200\n",
            "train loss: 0.4006 acc: 0.8212\n",
            "val loss: 0.4109 acc: 0.8080\n",
            "Epoch 140/200\n",
            "train loss: 0.3979 acc: 0.8248\n",
            "val loss: 0.4051 acc: 0.8168\n",
            "New acc: 0.8168, previous acc: 0.8120\n",
            "New model is SAVED\n",
            "\n",
            "Epoch 141/200\n",
            "train loss: 0.3972 acc: 0.8231\n",
            "val loss: 0.4191 acc: 0.8084\n",
            "Epoch 142/200\n",
            "train loss: 0.3944 acc: 0.8242\n",
            "val loss: 0.4179 acc: 0.8126\n",
            "Epoch 143/200\n",
            "train loss: 0.3896 acc: 0.8257\n",
            "val loss: 0.4152 acc: 0.8100\n",
            "Epoch 144/200\n",
            "train loss: 0.3868 acc: 0.8267\n",
            "val loss: 0.4088 acc: 0.8116\n",
            "Epoch 145/200\n",
            "train loss: 0.3844 acc: 0.8317\n",
            "val loss: 0.3998 acc: 0.8168\n",
            "Epoch 146/200\n",
            "train loss: 0.3843 acc: 0.8274\n",
            "val loss: 0.4076 acc: 0.8164\n",
            "Epoch 147/200\n",
            "train loss: 0.3814 acc: 0.8314\n",
            "val loss: 0.3942 acc: 0.8196\n",
            "New acc: 0.8196, previous acc: 0.8168\n",
            "New model is SAVED\n",
            "\n",
            "Epoch 148/200\n"
          ]
        },
        {
          "output_type": "display_data",
          "data": {
            "text/plain": [
              "<IPython.core.display.HTML object>"
            ],
            "text/html": [
              "\n",
              "        <progress\n",
              "            value='157'\n",
              "            max='157',\n",
              "            style='width: 100%'\n",
              "        >\n",
              "            157\n",
              "        </progress>\n",
              "    "
            ]
          },
          "metadata": {}
        },
        {
          "output_type": "stream",
          "name": "stdout",
          "text": [
            "train loss: 0.3800 acc: 0.8320\n",
            "val loss: 0.4151 acc: 0.8132\n"
          ]
        },
        {
          "output_type": "display_data",
          "data": {
            "text/plain": [
              "<IPython.core.display.HTML object>"
            ],
            "text/html": [
              "\n",
              "        <progress\n",
              "            value='200'\n",
              "            max='200',\n",
              "            style='width: 100%'\n",
              "        >\n",
              "            200\n",
              "        </progress>\n",
              "    "
            ]
          },
          "metadata": {}
        },
        {
          "output_type": "stream",
          "name": "stdout",
          "text": [
            "Epoch 149/200\n",
            "train loss: 0.3770 acc: 0.8341\n",
            "val loss: 0.4027 acc: 0.8154\n",
            "Epoch 150/200\n",
            "train loss: 0.3765 acc: 0.8332\n",
            "val loss: 0.3975 acc: 0.8150\n",
            "Epoch 151/200\n",
            "train loss: 0.3711 acc: 0.8347\n",
            "val loss: 0.3918 acc: 0.8194\n",
            "Epoch 152/200\n",
            "train loss: 0.3667 acc: 0.8406\n",
            "val loss: 0.4012 acc: 0.8176\n",
            "Epoch 153/200\n",
            "train loss: 0.3661 acc: 0.8372\n",
            "val loss: 0.3867 acc: 0.8260\n",
            "New acc: 0.8260, previous acc: 0.8196\n",
            "New model is SAVED\n",
            "\n",
            "Epoch 154/200\n",
            "train loss: 0.3660 acc: 0.8415\n",
            "val loss: 0.3828 acc: 0.8298\n",
            "New acc: 0.8298, previous acc: 0.8260\n",
            "New model is SAVED\n",
            "\n",
            "Epoch 155/200\n",
            "train loss: 0.3621 acc: 0.8424\n",
            "val loss: 0.3817 acc: 0.8314\n",
            "New acc: 0.8314, previous acc: 0.8298\n",
            "New model is SAVED\n",
            "\n",
            "Epoch 156/200\n",
            "train loss: 0.3598 acc: 0.8421\n",
            "val loss: 0.3844 acc: 0.8258\n",
            "Epoch 157/200\n",
            "train loss: 0.3538 acc: 0.8451\n",
            "val loss: 0.3800 acc: 0.8260\n",
            "Epoch 158/200\n",
            "train loss: 0.3539 acc: 0.8449\n",
            "val loss: 0.3874 acc: 0.8240\n",
            "Epoch 159/200\n",
            "train loss: 0.3510 acc: 0.8478\n",
            "val loss: 0.3745 acc: 0.8286\n",
            "Epoch 160/200\n",
            "train loss: 0.3494 acc: 0.8481\n",
            "val loss: 0.3803 acc: 0.8328\n",
            "New acc: 0.8328, previous acc: 0.8314\n",
            "New model is SAVED\n",
            "\n",
            "Epoch 161/200\n",
            "train loss: 0.3484 acc: 0.8468\n",
            "val loss: 0.3724 acc: 0.8318\n",
            "Epoch 162/200\n",
            "train loss: 0.3418 acc: 0.8530\n",
            "val loss: 0.4085 acc: 0.8230\n",
            "Epoch 163/200\n",
            "train loss: 0.3397 acc: 0.8524\n",
            "val loss: 0.3764 acc: 0.8334\n",
            "New acc: 0.8334, previous acc: 0.8328\n",
            "New model is SAVED\n",
            "\n",
            "Epoch 164/200\n",
            "train loss: 0.3414 acc: 0.8500\n",
            "val loss: 0.3884 acc: 0.8280\n",
            "Epoch 165/200\n",
            "train loss: 0.3391 acc: 0.8531\n",
            "val loss: 0.3799 acc: 0.8324\n",
            "Epoch 166/200\n",
            "train loss: 0.3321 acc: 0.8564\n",
            "val loss: 0.3662 acc: 0.8396\n",
            "New acc: 0.8396, previous acc: 0.8334\n",
            "New model is SAVED\n",
            "\n",
            "Epoch 167/200\n",
            "train loss: 0.3320 acc: 0.8568\n",
            "val loss: 0.3663 acc: 0.8408\n",
            "New acc: 0.8408, previous acc: 0.8396\n",
            "New model is SAVED\n",
            "\n",
            "Epoch 168/200\n",
            "train loss: 0.3276 acc: 0.8568\n",
            "val loss: 0.3794 acc: 0.8328\n",
            "Epoch 169/200\n",
            "train loss: 0.3286 acc: 0.8572\n",
            "val loss: 0.3676 acc: 0.8350\n",
            "Epoch 170/200\n",
            "train loss: 0.3266 acc: 0.8615\n",
            "val loss: 0.3707 acc: 0.8346\n",
            "Epoch 171/200\n",
            "train loss: 0.3216 acc: 0.8617\n",
            "val loss: 0.3578 acc: 0.8414\n",
            "New acc: 0.8414, previous acc: 0.8408\n",
            "New model is SAVED\n",
            "\n",
            "Epoch 172/200\n",
            "train loss: 0.3151 acc: 0.8657\n",
            "val loss: 0.3515 acc: 0.8430\n",
            "New acc: 0.8430, previous acc: 0.8414\n",
            "New model is SAVED\n",
            "\n",
            "Epoch 173/200\n",
            "train loss: 0.3164 acc: 0.8652\n",
            "val loss: 0.3573 acc: 0.8418\n",
            "Epoch 174/200\n",
            "train loss: 0.3123 acc: 0.8683\n",
            "val loss: 0.3583 acc: 0.8416\n",
            "Epoch 175/200\n",
            "train loss: 0.3113 acc: 0.8661\n",
            "val loss: 0.3507 acc: 0.8438\n",
            "New acc: 0.8438, previous acc: 0.8430\n",
            "New model is SAVED\n",
            "\n",
            "Epoch 176/200\n",
            "train loss: 0.3080 acc: 0.8691\n",
            "val loss: 0.3668 acc: 0.8350\n",
            "Epoch 177/200\n",
            "train loss: 0.3044 acc: 0.8694\n",
            "val loss: 0.3670 acc: 0.8324\n",
            "Epoch 178/200\n",
            "train loss: 0.2994 acc: 0.8733\n",
            "val loss: 0.3548 acc: 0.8476\n",
            "New acc: 0.8476, previous acc: 0.8438\n",
            "New model is SAVED\n",
            "\n",
            "Epoch 179/200\n",
            "train loss: 0.2968 acc: 0.8741\n",
            "val loss: 0.3598 acc: 0.8432\n",
            "Epoch 180/200\n",
            "train loss: 0.2984 acc: 0.8722\n",
            "val loss: 0.3539 acc: 0.8408\n",
            "Epoch 181/200\n",
            "train loss: 0.2965 acc: 0.8749\n",
            "val loss: 0.3495 acc: 0.8430\n",
            "Epoch 182/200\n",
            "train loss: 0.2909 acc: 0.8780\n",
            "val loss: 0.3434 acc: 0.8454\n",
            "Epoch 183/200\n",
            "train loss: 0.2899 acc: 0.8748\n",
            "val loss: 0.3463 acc: 0.8470\n",
            "Epoch 184/200\n",
            "train loss: 0.2885 acc: 0.8776\n",
            "val loss: 0.3462 acc: 0.8456\n",
            "Epoch 185/200\n",
            "train loss: 0.2860 acc: 0.8779\n",
            "val loss: 0.3499 acc: 0.8466\n",
            "Epoch 186/200\n",
            "train loss: 0.2789 acc: 0.8826\n",
            "val loss: 0.3398 acc: 0.8494\n",
            "New acc: 0.8494, previous acc: 0.8476\n",
            "New model is SAVED\n",
            "\n",
            "Epoch 187/200\n",
            "train loss: 0.2792 acc: 0.8832\n",
            "val loss: 0.3571 acc: 0.8434\n",
            "Epoch 188/200\n",
            "train loss: 0.2780 acc: 0.8834\n",
            "val loss: 0.3381 acc: 0.8538\n",
            "New acc: 0.8538, previous acc: 0.8494\n",
            "New model is SAVED\n",
            "\n",
            "Epoch 189/200\n",
            "train loss: 0.2715 acc: 0.8865\n",
            "val loss: 0.3518 acc: 0.8440\n",
            "Epoch 190/200\n",
            "train loss: 0.2721 acc: 0.8854\n",
            "val loss: 0.3337 acc: 0.8546\n",
            "New acc: 0.8546, previous acc: 0.8538\n",
            "New model is SAVED\n",
            "\n",
            "Epoch 191/200\n",
            "train loss: 0.2678 acc: 0.8864\n",
            "val loss: 0.3447 acc: 0.8572\n",
            "New acc: 0.8572, previous acc: 0.8546\n",
            "New model is SAVED\n",
            "\n",
            "Epoch 192/200\n",
            "train loss: 0.2674 acc: 0.8884\n",
            "val loss: 0.3552 acc: 0.8472\n",
            "Epoch 193/200\n",
            "train loss: 0.2583 acc: 0.8908\n",
            "val loss: 0.3349 acc: 0.8542\n",
            "Epoch 194/200\n",
            "train loss: 0.2627 acc: 0.8905\n",
            "val loss: 0.3303 acc: 0.8570\n",
            "Epoch 195/200\n",
            "train loss: 0.2571 acc: 0.8936\n",
            "val loss: 0.3538 acc: 0.8472\n",
            "Epoch 196/200\n",
            "train loss: 0.2573 acc: 0.8933\n",
            "val loss: 0.3426 acc: 0.8518\n",
            "Epoch 197/200\n",
            "train loss: 0.2504 acc: 0.8983\n",
            "val loss: 0.3367 acc: 0.8582\n",
            "New acc: 0.8582, previous acc: 0.8572\n",
            "New model is SAVED\n",
            "\n",
            "Epoch 198/200\n",
            "train loss: 0.2496 acc: 0.8982\n",
            "val loss: 0.3656 acc: 0.8486\n",
            "Epoch 199/200\n",
            "train loss: 0.2469 acc: 0.8971\n",
            "val loss: 0.3268 acc: 0.8574\n",
            "Epoch 200/200\n",
            "train loss: 0.2454 acc: 0.8972\n",
            "val loss: 0.3571 acc: 0.8520\n",
            "Training complete in: 457m 36s\n",
            "Best val acc: 0.8582 Best val loss: 0.3367\n"
          ]
        }
      ],
      "source": [
        "\n",
        "model, best_val_loss, best_val_acc = train_model(model,\n",
        "                                                 criterion,\n",
        "                                                 optimizer,\n",
        "                                                 lr_scheduler,\n",
        "                                                 num_epochs = EPOCHS)\n"
      ]
    },
    {
      "cell_type": "code",
      "execution_count": 56,
      "metadata": {
        "id": "R1KEoNbaIqKb"
      },
      "outputs": [],
      "source": [
        "def plot_confusion_matrix(cm, classes,\n",
        "                          normalize=False,\n",
        "                          title='Confusion matrix',\n",
        "                          cmap=plt.cm.Blues):\n",
        "    \"\"\"\n",
        "    This function prints and plots the confusion matrix.\n",
        "    Normalization can be applied by setting `normalize=True`.\n",
        "    \"\"\"\n",
        "    plt.imshow(cm, interpolation='nearest', cmap=cmap)\n",
        "    plt.title(title)\n",
        "    plt.colorbar()\n",
        "    tick_marks = np.arange(len(classes))\n",
        "    plt.xticks(tick_marks, classes, rotation=45)\n",
        "    plt.yticks(tick_marks, classes)\n",
        "\n",
        "    if normalize:\n",
        "        cm = cm.astype('float') / cm.sum(axis=1)[:, np.newaxis]\n",
        "\n",
        "    thresh = cm.max() / 2.\n",
        "    for i, j in itertools.product(range(cm.shape[0]), range(cm.shape[1])):\n",
        "        plt.text(j, i, cm[i, j],\n",
        "                 horizontalalignment=\"center\",\n",
        "                 color=\"white\" if cm[i, j] > thresh else \"black\")\n",
        "\n",
        "    plt.tight_layout()\n",
        "    plt.ylabel('True label')\n",
        "    plt.xlabel('Predicted label')\n",
        "    \n",
        "def plot_roc_curve(fpr, tpr):\n",
        "    plt.plot(fpr, tpr, color='darkorange',\n",
        "         lw=2, label='ROC curve (area = %0.2f)' % roc_auc)\n",
        "    plt.plot([0, 1], [0, 1], color='darkblue', linestyle='--')\n",
        "    plt.xlabel('False Positive Rate')\n",
        "    plt.ylabel('True Positive Rate')\n",
        "    plt.title('Receiver Operating Characteristic (ROC) Curve')\n",
        "    plt.legend(loc=\"lower right\")\n",
        "    \n",
        "    plt.show()"
      ]
    },
    {
      "cell_type": "code",
      "execution_count": 57,
      "metadata": {
        "id": "Zps1KwPVI8mL"
      },
      "outputs": [],
      "source": [
        "checkpoint = torch.load('model.pth')\n",
        "def load_model(path):                                \n",
        "    model.load_state_dict(checkpoint['model_state_dict'])\n",
        "    best_model_wts = copy.deepcopy(model.state_dict())\n",
        "    optimizer.load_state_dict(checkpoint['optimizer_state_dict'])\n",
        "    lr_scheduler.load_state_dict(checkpoint['scheduler_state_dict'])\n",
        "    best_loss = checkpoint['best_val_loss']\n",
        "    best_acc = checkpoint['best_val_accuracy']\n",
        "load_model('model.pth')  \n",
        "model = model.to(DEVICE)"
      ]
    },
    {
      "cell_type": "code",
      "execution_count": 58,
      "metadata": {
        "colab": {
          "base_uri": "https://localhost:8080/",
          "height": 493
        },
        "id": "RkQt8m9vJJZa",
        "outputId": "fcc04a62-0fc2-4136-fcd6-e3a86a65e6a3"
      },
      "outputs": [
        {
          "output_type": "stream",
          "name": "stdout",
          "text": [
            "Testing complete in 0m 9s\n",
            "              precision    recall  f1-score   support\n",
            "\n",
            "           0     0.8898    0.8788    0.8843      2500\n",
            "           1     0.8803    0.8912    0.8857      2500\n",
            "\n",
            "    accuracy                         0.8850      5000\n",
            "   macro avg     0.8851    0.8850    0.8850      5000\n",
            "weighted avg     0.8851    0.8850    0.8850      5000\n",
            "\n"
          ]
        },
        {
          "output_type": "display_data",
          "data": {
            "text/plain": [
              "<Figure size 432x288 with 2 Axes>"
            ],
            "image/png": "[encoded data removed]"
          },
          "metadata": {
            "needs_background": "light"
          }
        }
      ],
      "source": [
        "from sklearn.metrics import confusion_matrix,accuracy_score, classification_report\n",
        "import itertools\n",
        "since = time.time()\n",
        "model.eval()\n",
        "y_test = []\n",
        "y_pred = []\n",
        "for images, labels in data_loader['test']:\n",
        "    images = images.to(DEVICE)\n",
        "    labels = labels.to(DEVICE)\n",
        "    outputs = model(images)\n",
        "    _, predictions = outputs.max(1)\n",
        "    \n",
        "    y_test.append(labels.data.cpu().numpy())\n",
        "    y_pred.append(predictions.data.cpu().numpy())\n",
        "    \n",
        "y_test = np.concatenate(y_test)\n",
        "y_pred = np.concatenate(y_pred)\n",
        "time_elapsed = time.time() - since\n",
        "\n",
        "print('Testing complete in {:.0f}m {:.0f}s'.format(time_elapsed // 60, time_elapsed % 60))\n",
        "\n",
        "confusion_mtx = confusion_matrix(y_test, y_pred)\n",
        "# plot the confusion matrix\n",
        "plot_labels = ['fake', 'real']\n",
        "\n",
        "plot_confusion_matrix(confusion_mtx, plot_labels)\n",
        "report = classification_report(y_test, y_pred, digits=4)\n",
        "print(report)"
      ]
    },
    {
      "cell_type": "code",
      "source": [
        "from sklearn.metrics import roc_auc_score, roc_curve\n",
        "fpr, tpr, thresholds = roc_curve(y_test, y_pred)\n",
        "plt.plot(fpr, tpr)\n",
        "plt.title('ROC curve')\n",
        "plt.xlabel('False Positive Rate')\n",
        "plt.ylabel('True Positive Rate')\n",
        "print('Area under the Receiver Operating Characteristic curve:', \n",
        "      roc_auc_score(y_test, y_pred))"
      ],
      "metadata": {
        "colab": {
          "base_uri": "https://localhost:8080/",
          "height": 313
        },
        "id": "VcVF7LLr8w9E",
        "outputId": "33d77753-8978-4c67-867b-c7755ccf26ae"
      },
      "execution_count": 85,
      "outputs": [
        {
          "output_type": "stream",
          "name": "stdout",
          "text": [
            "Area under the Receiver Operating Characteristic curve: 0.885\n"
          ]
        },
        {
          "output_type": "display_data",
          "data": {
            "text/plain": [
              "<Figure size 432x288 with 1 Axes>"
            ],
            "image/png": "[encoded data removed]"
          },
          "metadata": {
            "needs_background": "light"
          }
        }
      ]
    },
    {
      "cell_type": "code",
      "execution_count": 59,
      "metadata": {
        "colab": {
          "base_uri": "https://localhost:8080/"
        },
        "id": "gIXfN45rq7bJ",
        "outputId": "d29741e5-6290-4593-ba72-2d0449f37a03"
      },
      "outputs": [
        {
          "output_type": "execute_result",
          "data": {
            "text/plain": [
              "200"
            ]
          },
          "metadata": {},
          "execution_count": 59
        }
      ],
      "source": [
        "len(model_loss)"
      ]
    },
    {
      "cell_type": "code",
      "execution_count": 60,
      "metadata": {
        "colab": {
          "base_uri": "https://localhost:8080/",
          "height": 295
        },
        "id": "7_yui9tgus5I",
        "outputId": "f18cfde7-c0d7-43f2-eaef-016cf81f284c"
      },
      "outputs": [
        {
          "output_type": "display_data",
          "data": {
            "text/plain": [
              "<Figure size 432x288 with 1 Axes>"
            ],
            "image/png": "[encoded data removed]"
          },
          "metadata": {
            "needs_background": "light"
          }
        }
      ],
      "source": [
        "epochs = range(1,len(model_loss)+1)\n",
        "plt.plot(epochs, model_loss, 'g', label='Training loss')\n",
        "plt.plot(epochs, model_val_loss, 'b', label='validation loss')\n",
        "plt.title('Training and Validation loss')\n",
        "plt.xlabel('Epochs')\n",
        "plt.ylabel('Loss')\n",
        "plt.legend()\n",
        "plt.show()"
      ]
    },
    {
      "cell_type": "code",
      "source": [
        "val_acc = [tensor.item() for tensor in model_val_acc]\n",
        "fig = plt.figure()\n",
        "ax = fig.add_subplot(111)\n",
        "xs = np.arange(1, len(model_val_acc) + 1)\n",
        "plt.title('Validation Accuracy')\n",
        "ax.plot(xs, val_acc, '-')\n",
        "ax.set_xlabel('epoch')\n",
        "ax.set_ylabel('val acc')\n",
        "ax.grid()\n",
        "plt.show()\n"
      ],
      "metadata": {
        "colab": {
          "base_uri": "https://localhost:8080/",
          "height": 295
        },
        "id": "bi1FJavC06E1",
        "outputId": "4b16258d-4009-4178-f697-ef820e1bc089"
      },
      "execution_count": 77,
      "outputs": [
        {
          "output_type": "display_data",
          "data": {
            "text/plain": [
              "<Figure size 432x288 with 1 Axes>"
            ],
            "image/png": "[encoded data removed]"
          },
          "metadata": {
            "needs_background": "light"
          }
        }
      ]
    }
  ],
  "metadata": {
    "accelerator": "GPU",
    "colab": {
      "collapsed_sections": [],
      "machine_shape": "hm",
      "name": "swin_transformer.ipynb",
      "provenance": []
    },
    "gpuClass": "standard",
    "kernelspec": {
      "display_name": "Python 3",
      "name": "python3"
    },
    "language_info": {
      "name": "python"
    }
  },
  "nbformat": 4,
  "nbformat_minor": 0
}